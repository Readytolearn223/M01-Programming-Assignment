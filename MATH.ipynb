{
 "cells": [
  {
   "cell_type": "code",
   "execution_count": null,
   "metadata": {},
   "outputs": [],
   "source": [
    "Minute=60\n",
    "Hour = 60\n",
    "secondsinanhour= 60*60\n",
    "print(\" Their are \" ,secondsinanhour,\"seconds in a hour. \")\n"
   ]
  },
  {
   "cell_type": "code",
   "execution_count": null,
   "metadata": {},
   "outputs": [],
   "source": [
    "second_per_hour= secondsinanhour"
   ]
  },
  {
   "cell_type": "code",
   "execution_count": null,
   "metadata": {},
   "outputs": [],
   "source": [
    "second_per_hour= secondsinanhour\n",
    "hoursinaday=24\n",
    "second_per_day= second_per_hour*hoursinaday\n",
    "print( \"Their are \",second_per_day,\"seconds in a day. \")\n"
   ]
  },
  {
   "cell_type": "code",
   "execution_count": null,
   "metadata": {},
   "outputs": [],
   "source": [
    "Divsion1 = second_per_hour/second_per_day\n",
    "print(Divsion1)\n",
    "Divison2 = second_per_hour//second_per_day\n",
    "print(Divison2)\n"
   ]
  }
 ],
 "metadata": {
  "language_info": {
   "name": "python"
  }
 },
 "nbformat": 4,
 "nbformat_minor": 2
}
